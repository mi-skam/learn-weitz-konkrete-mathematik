{
 "cells": [
  {
   "cell_type": "code",
   "execution_count": 2,
   "id": "6860cee4-31d4-4c46-90df-a03d91bec73a",
   "metadata": {},
   "outputs": [
    {
     "data": {
      "text/plain": [
       "42"
      ]
     },
     "execution_count": 2,
     "metadata": {},
     "output_type": "execute_result"
    }
   ],
   "source": [
    "30 + 12"
   ]
  },
  {
   "cell_type": "code",
   "execution_count": 5,
   "id": "fe173b0a-a8f6-4e8c-810e-6b901874438d",
   "metadata": {},
   "outputs": [
    {
     "data": {
      "text/plain": [
       "9"
      ]
     },
     "execution_count": 5,
     "metadata": {},
     "output_type": "execute_result"
    }
   ],
   "source": [
    "3 * 3"
   ]
  },
  {
   "cell_type": "code",
   "execution_count": 6,
   "id": "c7c53b8b-234f-4c5d-911a-c284fefa0f01",
   "metadata": {},
   "outputs": [
    {
     "ename": "SyntaxError",
     "evalue": "invalid syntax (4032107675.py, line 1)",
     "output_type": "error",
     "traceback": [
      "\u001b[1;36m  Cell \u001b[1;32mIn [6], line 1\u001b[1;36m\u001b[0m\n\u001b[1;33m    thirty plus twelve\u001b[0m\n\u001b[1;37m           ^\u001b[0m\n\u001b[1;31mSyntaxError\u001b[0m\u001b[1;31m:\u001b[0m invalid syntax\n"
     ]
    }
   ],
   "source": [
    "thirty plus twelve"
   ]
  },
  {
   "cell_type": "code",
   "execution_count": 7,
   "id": "dd4e4af6-f51c-4b20-8eeb-2a333d34f57c",
   "metadata": {},
   "outputs": [
    {
     "data": {
      "text/plain": [
       "42"
      ]
     },
     "execution_count": 7,
     "metadata": {},
     "output_type": "execute_result"
    }
   ],
   "source": [
    "a = 30\n",
    "a + 12"
   ]
  },
  {
   "cell_type": "code",
   "execution_count": 8,
   "id": "20d5c92e-17df-4647-b6b9-024c32b6763d",
   "metadata": {},
   "outputs": [
    {
     "data": {
      "text/plain": [
       "(-50, 12.4, 70)"
      ]
     },
     "execution_count": 8,
     "metadata": {},
     "output_type": "execute_result"
    }
   ],
   "source": [
    "a = 10\n",
    "b = 12\n",
    "c = -5\n",
    "\n",
    "a + b*c, a - b / c, a * (b + c)"
   ]
  },
  {
   "cell_type": "code",
   "execution_count": 19,
   "id": "a0759941-8f03-47e1-b1a5-8bf00049f4f8",
   "metadata": {},
   "outputs": [
    {
     "name": "stdout",
     "output_type": "stream",
     "text": [
      "1 0\n",
      "2 1\n",
      "3 3\n",
      "4 6\n",
      "5 10\n",
      "6 15\n",
      "7 21\n",
      "8 28\n",
      "9 36\n",
      "10 45\n"
     ]
    },
    {
     "data": {
      "text/plain": [
       "55"
      ]
     },
     "execution_count": 19,
     "metadata": {},
     "output_type": "execute_result"
    }
   ],
   "source": [
    "i = 1\n",
    "sum = 0\n",
    "while i <= 10:\n",
    "    print(i, sum)\n",
    "    sum = sum + i\n",
    "    i = i + 1\n",
    "sum"
   ]
  },
  {
   "cell_type": "code",
   "execution_count": 21,
   "id": "f61296b1-6b31-445e-8963-092fc857a63d",
   "metadata": {},
   "outputs": [
    {
     "name": "stdout",
     "output_type": "stream",
     "text": [
      "1 0\n",
      "2 2\n",
      "3 5\n",
      "4 9\n",
      "5 14\n",
      "6 20\n",
      "7 27\n",
      "8 35\n",
      "9 44\n",
      "10 54\n"
     ]
    },
    {
     "data": {
      "text/plain": [
       "65"
      ]
     },
     "execution_count": 21,
     "metadata": {},
     "output_type": "execute_result"
    }
   ],
   "source": [
    "i = 1\n",
    "sum = 0\n",
    "while i <= 10:\n",
    "    print(i, sum)\n",
    "    i = i + 1\n",
    "    sum = sum + i\n",
    "sum"
   ]
  },
  {
   "cell_type": "raw",
   "id": "fe726036-005c-4844-a35f-9a32fea90c3c",
   "metadata": {},
   "source": [
    "def sumFn(n):\n",
    "    i = 1\n",
    "    sum = 0\n",
    "    while i <= n:\n",
    "        sum += i\n",
    "        i += 1\n",
    "    return sum\n",
    "        \n"
   ]
  },
  {
   "cell_type": "code",
   "execution_count": 26,
   "id": "19b126bf-49b7-4b89-819d-79cab22c2aeb",
   "metadata": {},
   "outputs": [
    {
     "name": "stdout",
     "output_type": "stream",
     "text": [
      "55\n",
      "210\n",
      "0\n"
     ]
    }
   ],
   "source": [
    "print(sumFn(10))\n",
    "print(sumFn(20))\n",
    "print(sumFn(-3))"
   ]
  },
  {
   "cell_type": "code",
   "execution_count": null,
   "id": "42f0785d-8c91-4333-a82e-ca4e3614dfd9",
   "metadata": {},
   "outputs": [],
   "source": []
  }
 ],
 "metadata": {
  "kernelspec": {
   "display_name": "Python 3 (ipykernel)",
   "language": "python",
   "name": "python3"
  },
  "language_info": {
   "codemirror_mode": {
    "name": "ipython",
    "version": 3
   },
   "file_extension": ".py",
   "mimetype": "text/x-python",
   "name": "python",
   "nbconvert_exporter": "python",
   "pygments_lexer": "ipython3",
   "version": "3.10.6"
  }
 },
 "nbformat": 4,
 "nbformat_minor": 5
}
