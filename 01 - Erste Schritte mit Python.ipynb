{
 "cells": [
  {
   "cell_type": "markdown",
   "id": "d7705dc6-e773-4033-9e96-57b35490ac2f",
   "metadata": {},
   "source": [
    "# Erste Schritte mit Python\n",
    "## 1. Kapitel"
   ]
  },
  {
   "cell_type": "markdown",
   "id": "f5353bf0-0472-4274-8bb2-6de98ad7db6f",
   "metadata": {},
   "source": [
    "*Aufgabe 1* \n",
    "Experimentieren Sie mit einfachen arithmetischen Ausdrücken. Weisen Sie Variablen mit den Namen a, b und c Werte zu und berechnen Sie z.B. a + bc, a − b/c oder a(b + c). Hält sich Python an die Regel „Punktrechnung vor Strichrechnung“? Funktioniert die Klammerung \u0005\u0006 von Termen so, wie Sie das erwarten würden?"
   ]
  },
  {
   "cell_type": "code",
   "execution_count": 1,
   "id": "d018a4d9-c312-47f4-8b63-d9d435942fa9",
   "metadata": {},
   "outputs": [
    {
     "name": "stdout",
     "output_type": "stream",
     "text": [
      "0\n",
      "10.4\n",
      "30\n"
     ]
    }
   ],
   "source": [
    "a = 10\n",
    "b = -2\n",
    "c = 5\n",
    "\n",
    "first = a + b * c\n",
    "second = a - b / c\n",
    "third = a * (b + c)\n",
    "\n",
    "print(first)\n",
    "print(second)\n",
    "print(third)"
   ]
  },
  {
   "cell_type": "markdown",
   "id": "fe3a22e4-cba9-4af9-b7ff-9ea25f0304ca",
   "metadata": {},
   "source": [
    "*Aufgabe 2*\n",
    "Statistiken zeigen, dass nur 23% der Leser dieses Buches Aufgabe 1 oder ähnliche Aufgaben bearbeiten, dass diese 23% aber auch mehr lernen als der Rest. Wollen Sie sich dieser Minderheit nicht anschließen und sich die Aufgabe vornehmen, falls Sie es nicht schon getan haben?"
   ]
  },
  {
   "cell_type": "markdown",
   "id": "a83bb541-d1e3-48b7-ae4f-2d385c91962a",
   "metadata": {},
   "source": [
    "🤪"
   ]
  },
  {
   "cell_type": "markdown",
   "id": "02384740-4457-4dcf-8850-63455494c17d",
   "metadata": {},
   "source": [
    "### Bedingte Anwendung"
   ]
  },
  {
   "cell_type": "markdown",
   "id": "770e1882-de52-414d-a0d2-9926eefe9e19",
   "metadata": {},
   "source": [
    "*Aufgabe 3*"
   ]
  },
  {
   "cell_type": "code",
   "execution_count": 2,
   "id": "41a1cc5d-00b7-4cf8-9450-e212754072df",
   "metadata": {},
   "outputs": [
    {
     "name": "stdout",
     "output_type": "stream",
     "text": [
      "WHAAAAAT???\n"
     ]
    }
   ],
   "source": [
    "# \"größer/gleich als\" und \"kleiner/gleich als\" ausprobieren\n",
    "if 3>=2:\n",
    "    print(\"WHAAAAAT???\")\n",
    "else:\n",
    "    print(\"never ever\")"
   ]
  },
  {
   "cell_type": "markdown",
   "id": "fc7ad5f3-1517-4ec2-93d6-c65ab2517dc0",
   "metadata": {},
   "source": [
    "*Aufgabe 4*"
   ]
  },
  {
   "cell_type": "code",
   "execution_count": 3,
   "id": "147400a5-8d67-4c24-bbc9-91d805dff50b",
   "metadata": {},
   "outputs": [
    {
     "name": "stdout",
     "output_type": "stream",
     "text": [
      "x ist 10...19\n"
     ]
    }
   ],
   "source": [
    "# Junktoren ausprobieren and/or, not\n",
    "x = 10\n",
    "if x >= 10 or x < 20:\n",
    "    print(\"x ist 10...19\")"
   ]
  },
  {
   "cell_type": "markdown",
   "id": "427cfe2f-3a02-4771-8063-9f0d94cff93e",
   "metadata": {},
   "source": [
    "*Aufgabe 5*"
   ]
  },
  {
   "cell_type": "code",
   "execution_count": 4,
   "id": "ce50af5c-dd95-4af3-b6f5-ff7baac8b694",
   "metadata": {},
   "outputs": [
    {
     "data": {
      "text/plain": [
       "110"
      ]
     },
     "execution_count": 4,
     "metadata": {},
     "output_type": "execute_result"
    }
   ],
   "source": [
    "a = 100\n",
    "a += 10 # äquivalent zu a = a + 10\n",
    "a"
   ]
  },
  {
   "cell_type": "markdown",
   "id": "3616aa21-32a2-4aaa-8a7c-5cf4f21b0903",
   "metadata": {},
   "source": [
    "### Iterationen (Schleifen)"
   ]
  },
  {
   "cell_type": "markdown",
   "id": "703e57cc-174a-4f44-83e8-bccbeb895654",
   "metadata": {},
   "source": [
    "*Aufgabe 6*"
   ]
  },
  {
   "cell_type": "code",
   "execution_count": null,
   "id": "4cf4cc50-8380-4259-b724-a1e28e339d2a",
   "metadata": {},
   "outputs": [],
   "source": [
    "i = 0\n",
    "s = 0\n",
    "while i <= 10:\n",
    "    s = s + i\n",
    "    # i = i + 1 # Was passiert? Das Programm stoppt niemals, da immer gilt: i <= 10\n",
    "s"
   ]
  },
  {
   "cell_type": "markdown",
   "id": "d6db8554-5791-4ef7-90f4-db25338a7fee",
   "metadata": {},
   "source": [
    "*Aufgabe 7*"
   ]
  },
  {
   "cell_type": "code",
   "execution_count": null,
   "id": "0f143a07-eebd-4cdb-b177-a58986aee0ea",
   "metadata": {},
   "outputs": [],
   "source": [
    "# Was passiert wenn man die beiden Zeilen des Schleifenkörpers vertauscht?\n",
    "# Die Summe besteht aus 11 Elementen dre Reihe 0, 1, 2, 3, 4, 5, 6, 7, 8, 9, 10, 11\n",
    "# Addiert man s zuerst, dann summieren wir von 0...10 -> 55\n",
    "# Addiert man i zuerst, dann summieren wir von 1..11 -> 65\n",
    "i = 0\n",
    "s = 0\n",
    "while i <= 10:\n",
    "    i = i + 1\n",
    "    s = s + i\n",
    "s"
   ]
  },
  {
   "cell_type": "markdown",
   "id": "b73f5923-6550-4915-ab17-7ea61da939ba",
   "metadata": {},
   "source": [
    "### Funktionen"
   ]
  },
  {
   "cell_type": "code",
   "execution_count": null,
   "id": "3da25154-88e9-4e08-a10c-cda10f455f74",
   "metadata": {},
   "outputs": [],
   "source": [
    "# Ist die verallgemeinerte Folge für die Zahl n von dem was wir in Aufgabe 6 und 7 gelöst haben\n",
    "# n ist der Parameter der Funkiton sumFn\n",
    "def sumFn(n):\n",
    "    i = 0\n",
    "    s = 0\n",
    "    while i <= n:\n",
    "        s += i\n",
    "        i += 1\n",
    "    return s\n",
    "sumFn(10)"
   ]
  },
  {
   "cell_type": "markdown",
   "id": "c19e9fcb-58e3-4a93-a58b-cf835f722f8a",
   "metadata": {},
   "source": [
    "*Aufgabe 8: Was wird passieren, wenn man sumFn mit einem negativen Argument wie -3 aufruft?*\n"
   ]
  },
  {
   "cell_type": "code",
   "execution_count": null,
   "id": "e72c5047-4067-43eb-8c10-ec7670f66a16",
   "metadata": {},
   "outputs": [],
   "source": [
    "# Sie wird 0 zurückgeben, da i mit 0 initialisiert wird und damit i < n gilt."
   ]
  },
  {
   "cell_type": "code",
   "execution_count": null,
   "id": "a68a04a3-76f4-47e3-8cb1-b0f23febd4bf",
   "metadata": {},
   "outputs": [],
   "source": [
    "sumFn(-3)"
   ]
  },
  {
   "cell_type": "markdown",
   "id": "2a90854f-3ea6-4dc3-bfa9-e4d01c1689cb",
   "metadata": {},
   "source": [
    "*Aufgabe 9: Modifizieren Sie sumFn so, dass auch für negative Argumente \"sinnvolle\" Werte rauskommen sollen, z.B. für sumFn(-4) -> -4 - 3 -2 - 1 = -10*  "
   ]
  },
  {
   "cell_type": "code",
   "execution_count": null,
   "id": "e765fe8c-5c4a-4491-b978-abcddd7c0ea4",
   "metadata": {},
   "outputs": [],
   "source": [
    "# 1. Ansatz: Ergebnis mit Minus versehen\n",
    "# 2. Ansatz: Operand wechseln\n",
    "\n",
    "def sumFn2(n):\n",
    "    if (n < 0):\n",
    "        return -1 * sumFn(-n)\n",
    "    else:\n",
    "        return sumFn(n)\n",
    "\n",
    "def sumFn3(n):\n",
    "    s = 0\n",
    "    while n != 0:\n",
    "        s += n\n",
    "        if n > 0:\n",
    "            n -= 1\n",
    "        else:\n",
    "            n += 1\n",
    "    return s\n",
    "\n",
    "print(sumFn3(4))\n",
    "print(sumFn3(-4))"
   ]
  },
  {
   "cell_type": "markdown",
   "id": "d0b873c8-4ee1-4a7a-8abc-b0fbf4582385",
   "metadata": {},
   "source": [
    "*Aufgabe 10: Fakultät berechnen*"
   ]
  },
  {
   "cell_type": "code",
   "execution_count": null,
   "id": "69eaf4aa-3df0-4f46-a57f-84f5de11a386",
   "metadata": {},
   "outputs": [],
   "source": [
    "def fak(n):\n",
    "    if (n == 0): return 1\n",
    "    return n * fak(n - 1) if (n > 0) else n * fak(n + 1)\n",
    "\n",
    "def fak2(n):\n",
    "    if (n == 0): return 1\n",
    "    fak = 1\n",
    "    while n != 0:\n",
    "        fak *= n\n",
    "        if n > 0:\n",
    "            n -= 1\n",
    "        else:\n",
    "            n += 1\n",
    "    return fak\n",
    "\n",
    "print(fak(5))\n",
    "print(fak(-5))\n",
    "print(fak2(5))\n",
    "print(fak2(-5))"
   ]
  },
  {
   "cell_type": "markdown",
   "id": "36866de9-4b94-49ad-943b-b3723c3507fd",
   "metadata": {},
   "source": [
    "*Aufgabe 11: Die Funktion sumFn gibt den Wert 0 zurück, wenn das Argument 0 war. Was wäre bei diesem Argument ein sinnvoller Rückgabewert der Fakultätsfunktion aus der vorherigen Aufgabe?*"
   ]
  },
  {
   "cell_type": "markdown",
   "id": "6294966d-88a0-4999-97bf-e702e678f000",
   "metadata": {},
   "source": [
    "Wenn man den Rückgabewert von n = 0 auf 1 setzt, vereinfacht sich sowohl die rekursive alsauch die nicht-rekursive Funktion"
   ]
  },
  {
   "cell_type": "markdown",
   "id": "fe4f8ef6-648b-41fd-a3b0-6f7cdac937ec",
   "metadata": {},
   "source": [
    "*Aufgabe 12: Schrieben Sie die Absolutbetrags-Funktion*\n"
   ]
  },
  {
   "cell_type": "code",
   "execution_count": null,
   "id": "9b7afd4e-ff00-432a-ba74-340525b617d9",
   "metadata": {},
   "outputs": [],
   "source": [
    "def absolut(x):\n",
    "    return x if x > 0 else -x\n",
    "\n",
    "print(absolut(3))\n",
    "print(absolut(-3))"
   ]
  },
  {
   "cell_type": "markdown",
   "id": "9ef6943c-b2e7-49a3-9608-d73947f7acd8",
   "metadata": {},
   "source": [
    "*Aufgabe 13: Schreiben Sie eine Funktion, die zwei Parameter hat, und denjenigen zurück gibt, der weiter von 0 entfernt ist*"
   ]
  },
  {
   "cell_type": "code",
   "execution_count": null,
   "id": "f993e0da-c20b-46c6-9be0-f2f6cdaac9f3",
   "metadata": {},
   "outputs": [],
   "source": [
    "def far(a, b):\n",
    "    return a if absolut(a) > absolut(b) else b\n",
    "\n",
    "far(3, -7)"
   ]
  },
  {
   "cell_type": "markdown",
   "id": "215e6f58-1793-48d6-83b1-2c40f7a96a99",
   "metadata": {},
   "source": [
    "*Aufgabe 14: Begründen Sie wieso die letzte Aufgabe nicht präzise genug gestellt ist*"
   ]
  },
  {
   "cell_type": "markdown",
   "id": "0251ab15-3c98-4602-b1c5-d8b6ea92370e",
   "metadata": {},
   "source": [
    "Es wurde nicht spezifiziert, was geschehen soll, wenn beide Parameter gleich weit weg sind, z.B. -3 und 3"
   ]
  },
  {
   "cell_type": "markdown",
   "id": "292bf203-c0d8-4cd6-8722-032ba505595f",
   "metadata": {},
   "source": [
    "*Aufgabe 15: Schreiben Sie eine Funktion, die zwei Argumente hat und die die Potenz ausrechnet.*"
   ]
  },
  {
   "cell_type": "code",
   "execution_count": null,
   "id": "5e1a73ee-58be-4b07-a876-7d785cc6f8c1",
   "metadata": {},
   "outputs": [],
   "source": [
    "def pot(a, b):\n",
    "    if b == 0: return 1\n",
    "    return a * pot(a, b - 1)\n",
    "\n",
    "def pot2(a, b):\n",
    "    if b == 0: return 1\n",
    "    if b == 1: return a\n",
    "    _a = a\n",
    "    while b > 1:\n",
    "        a *= _a\n",
    "        b -= 1\n",
    "\n",
    "    return a\n",
    "    \n",
    "pot2(3,2)"
   ]
  },
  {
   "cell_type": "markdown",
   "id": "85673528-672d-4ca5-8073-7164791a7cd5",
   "metadata": {},
   "source": [
    "*Aufgabe 16: sumFn war nicht die erste Funktion, die wir in dem Kapitel hatten. Welche war es?* "
   ]
  },
  {
   "cell_type": "markdown",
   "id": "b7ff77df-7bb2-47b2-954a-596405485150",
   "metadata": {},
   "source": [
    "print()"
   ]
  },
  {
   "cell_type": "markdown",
   "id": "6ce544e3-7dc0-4ba0-944b-76097d7f2c50",
   "metadata": {},
   "source": [
    "*Aufgabe 17: Folgende Funktion ist nicht optimal, warum?*"
   ]
  },
  {
   "cell_type": "code",
   "execution_count": null,
   "id": "bf6b11bc-3f59-4822-abf5-bc32c9c575d7",
   "metadata": {},
   "outputs": [],
   "source": [
    "def Max (a, b):\n",
    "    if a > b:\n",
    "        print(a)\n",
    "    else:\n",
    "        print(b)"
   ]
  },
  {
   "cell_type": "markdown",
   "id": "ae73e436-cadb-47e8-b033-6bf73dc711b0",
   "metadata": {},
   "source": [
    "Sie stellt zwar das Ergebnis richtig dar, aber nur als Ausgabe, als ein so genannter Seiteneffekt. So lässt sicht nicht mit dem Ergebnis weiterarbeiten.\n"
   ]
  },
  {
   "cell_type": "markdown",
   "id": "142272ad-ebef-4cc7-a96c-8ca37de0c097",
   "metadata": {},
   "source": [
    "*Aufgabe 18: Gemeinsamkeiten und Unterschiede von Funktionen in der Mathematik und Informatik*"
   ]
  },
  {
   "cell_type": "markdown",
   "id": "35e0efa6-1d0c-4e0f-b507-a394cfe77e3b",
   "metadata": {},
   "source": [
    "Eigenschaft|Mathematik|Informatik\n",
    "-|-|-\n",
    "Variablen|ja|ja|\n",
    "Zuordnung|ja|ja|\n"
   ]
  },
  {
   "cell_type": "code",
   "execution_count": null,
   "id": "8b613672-723c-4552-8db6-d222e84000e0",
   "metadata": {},
   "outputs": [],
   "source": []
  }
 ],
 "metadata": {
  "kernelspec": {
   "display_name": "Python 3 (ipykernel)",
   "language": "python",
   "name": "python3"
  },
  "language_info": {
   "codemirror_mode": {
    "name": "ipython",
    "version": 3
   },
   "file_extension": ".py",
   "mimetype": "text/x-python",
   "name": "python",
   "nbconvert_exporter": "python",
   "pygments_lexer": "ipython3",
   "version": "3.11.7"
  }
 },
 "nbformat": 4,
 "nbformat_minor": 5
}
