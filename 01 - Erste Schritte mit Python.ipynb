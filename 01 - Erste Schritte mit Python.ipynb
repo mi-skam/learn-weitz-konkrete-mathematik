{
 "cells": [
  {
   "cell_type": "markdown",
   "id": "d7705dc6-e773-4033-9e96-57b35490ac2f",
   "metadata": {},
   "source": [
    "# Erste Schritte mit Python\n",
    "## 1. Kapitel"
   ]
  },
  {
   "cell_type": "markdown",
   "id": "f5353bf0-0472-4274-8bb2-6de98ad7db6f",
   "metadata": {},
   "source": [
    "*Aufgabe 1* \n",
    "Experimentieren Sie mit einfachen arithmetischen Ausdrücken. Weisen Sie Variablen mit den Namen a, b und c Werte zu und berechnen Sie z.B. a + bc, a − b/c oder a(b + c). Hält sich Python an die Regel „Punktrechnung vor Strichrechnung“? Funktioniert die Klammerung \u0005\u0006 von Termen so, wie Sie das erwarten würden?"
   ]
  },
  {
   "cell_type": "code",
   "execution_count": 3,
   "id": "d018a4d9-c312-47f4-8b63-d9d435942fa9",
   "metadata": {},
   "outputs": [
    {
     "name": "stdout",
     "output_type": "stream",
     "text": [
      "0\n",
      "10.4\n",
      "30\n"
     ]
    }
   ],
   "source": [
    "a = 10\n",
    "b = -2\n",
    "c = 5\n",
    "\n",
    "first = a + b * c\n",
    "second = a - b / c\n",
    "third = a * (b + c)\n",
    "\n",
    "print(first)\n",
    "print(second)\n",
    "print(third)"
   ]
  },
  {
   "cell_type": "markdown",
   "id": "fe3a22e4-cba9-4af9-b7ff-9ea25f0304ca",
   "metadata": {},
   "source": [
    "*Aufgabe 2*\n",
    "Statistiken zeigen, dass nur 23% der Leser dieses Buches Aufgabe 1 oder ähnliche Aufgaben bearbeiten, dass diese 23% aber auch mehr lernen als der Rest. Wollen Sie sich dieser Minderheit nicht anschließen und sich die Aufgabe vornehmen, falls Sie es nicht schon getan haben?"
   ]
  },
  {
   "cell_type": "markdown",
   "id": "a83bb541-d1e3-48b7-ae4f-2d385c91962a",
   "metadata": {},
   "source": [
    "🤪"
   ]
  },
  {
   "cell_type": "markdown",
   "id": "02384740-4457-4dcf-8850-63455494c17d",
   "metadata": {},
   "source": [
    "### Bedingte Anwendung"
   ]
  },
  {
   "cell_type": "markdown",
   "id": "770e1882-de52-414d-a0d2-9926eefe9e19",
   "metadata": {},
   "source": [
    "*Aufgabe 3*"
   ]
  },
  {
   "cell_type": "code",
   "execution_count": 8,
   "id": "41a1cc5d-00b7-4cf8-9450-e212754072df",
   "metadata": {},
   "outputs": [
    {
     "name": "stdout",
     "output_type": "stream",
     "text": [
      "WHAAAAAT???\n"
     ]
    }
   ],
   "source": [
    "# \"größer/gleich als\" und \"kleiner/gleich als\" ausprobieren\n",
    "if 3>=2:\n",
    "    print(\"WHAAAAAT???\")\n",
    "else:\n",
    "    print(\"never ever\")"
   ]
  },
  {
   "cell_type": "markdown",
   "id": "fc7ad5f3-1517-4ec2-93d6-c65ab2517dc0",
   "metadata": {},
   "source": [
    "*Aufgabe 4*"
   ]
  },
  {
   "cell_type": "code",
   "execution_count": 10,
   "id": "147400a5-8d67-4c24-bbc9-91d805dff50b",
   "metadata": {},
   "outputs": [
    {
     "name": "stdout",
     "output_type": "stream",
     "text": [
      "x ist 10...19\n"
     ]
    }
   ],
   "source": [
    "# Junktoren ausprobieren and/or, not\n",
    "x = 10\n",
    "if x >= 10 or x < 20:\n",
    "    print(\"x ist 10...19\")"
   ]
  },
  {
   "cell_type": "markdown",
   "id": "427cfe2f-3a02-4771-8063-9f0d94cff93e",
   "metadata": {},
   "source": [
    "*Aufgabe 5*"
   ]
  },
  {
   "cell_type": "code",
   "execution_count": 12,
   "id": "ce50af5c-dd95-4af3-b6f5-ff7baac8b694",
   "metadata": {},
   "outputs": [
    {
     "data": {
      "text/plain": [
       "110"
      ]
     },
     "execution_count": 12,
     "metadata": {},
     "output_type": "execute_result"
    }
   ],
   "source": [
    "a = 100\n",
    "a += 10 # äquivalent zu a = a + 10\n",
    "a"
   ]
  },
  {
   "cell_type": "markdown",
   "id": "3616aa21-32a2-4aaa-8a7c-5cf4f21b0903",
   "metadata": {},
   "source": [
    "### Iterationen (Schleifen)"
   ]
  },
  {
   "cell_type": "markdown",
   "id": "703e57cc-174a-4f44-83e8-bccbeb895654",
   "metadata": {},
   "source": [
    "*Aufgabe 6*"
   ]
  },
  {
   "cell_type": "code",
   "execution_count": 13,
   "id": "4cf4cc50-8380-4259-b724-a1e28e339d2a",
   "metadata": {},
   "outputs": [
    {
     "data": {
      "text/plain": [
       "55"
      ]
     },
     "execution_count": 13,
     "metadata": {},
     "output_type": "execute_result"
    }
   ],
   "source": [
    "i = 0\n",
    "s = 0\n",
    "while i <= 10:\n",
    "    s = s + i\n",
    "    # i = i + 1 # Was passiert? Das Programm stoppt niemals, da immer gilt: i <= 10\n",
    "s"
   ]
  },
  {
   "cell_type": "markdown",
   "id": "d6db8554-5791-4ef7-90f4-db25338a7fee",
   "metadata": {},
   "source": [
    "*Aufgabe 7*"
   ]
  },
  {
   "cell_type": "code",
   "execution_count": 2,
   "id": "0f143a07-eebd-4cdb-b177-a58986aee0ea",
   "metadata": {},
   "outputs": [
    {
     "data": {
      "text/plain": [
       "66"
      ]
     },
     "execution_count": 2,
     "metadata": {},
     "output_type": "execute_result"
    }
   ],
   "source": [
    "# Was passiert wenn man die beiden Zeilen des Schleifenkörpers vertauscht?\n",
    "# Die Summe besteht aus 11 Elementen dre Reihe 0, 1, 2, 3, 4, 5, 6, 7, 8, 9, 10, 11\n",
    "# Addiert man s zuerst, dann summieren wir von 0...10 -> 55\n",
    "# Addiert man i zuerst, dann summieren wir von 1..11 -> 65\n",
    "i = 0\n",
    "s = 0\n",
    "while i <= 10:\n",
    "    i = i + 1\n",
    "    s = s + i\n",
    "s"
   ]
  },
  {
   "cell_type": "markdown",
   "id": "b73f5923-6550-4915-ab17-7ea61da939ba",
   "metadata": {},
   "source": [
    "### Funktionen"
   ]
  },
  {
   "cell_type": "code",
   "execution_count": 11,
   "id": "3da25154-88e9-4e08-a10c-cda10f455f74",
   "metadata": {},
   "outputs": [
    {
     "data": {
      "text/plain": [
       "55"
      ]
     },
     "execution_count": 11,
     "metadata": {},
     "output_type": "execute_result"
    }
   ],
   "source": [
    "# Ist die verallgemeinerte Folge für die Zahl n von dem was wir in Aufgabe 6 und 7 gelöst haben\n",
    "# n ist der Parameter der Funkiton sumFn\n",
    "def sumFn(n):\n",
    "    i = 0\n",
    "    s = 0\n",
    "    while i <= n:\n",
    "        s += i\n",
    "        i += 1\n",
    "    return s\n",
    "sumFn(10)"
   ]
  },
  {
   "cell_type": "markdown",
   "id": "c19e9fcb-58e3-4a93-a58b-cf835f722f8a",
   "metadata": {},
   "source": [
    "*Aufgabe 8*\n",
    "Was wird passieren, wenn man sumFn mit einem negativen Argument wie -3 aufruft?"
   ]
  },
  {
   "cell_type": "code",
   "execution_count": 12,
   "id": "e72c5047-4067-43eb-8c10-ec7670f66a16",
   "metadata": {},
   "outputs": [],
   "source": [
    "# Sie wird 0 zurückgeben, da i mit 0 initialisiert wird und damit i < n gilt."
   ]
  },
  {
   "cell_type": "code",
   "execution_count": 13,
   "id": "a68a04a3-76f4-47e3-8cb1-b0f23febd4bf",
   "metadata": {},
   "outputs": [
    {
     "data": {
      "text/plain": [
       "0"
      ]
     },
     "execution_count": 13,
     "metadata": {},
     "output_type": "execute_result"
    }
   ],
   "source": [
    "sumFn(-3)"
   ]
  },
  {
   "cell_type": "code",
   "execution_count": null,
   "id": "6f5e27b8-1560-4866-abab-2b784e640629",
   "metadata": {},
   "outputs": [],
   "source": []
  }
 ],
 "metadata": {
  "kernelspec": {
   "display_name": "Python 3 (ipykernel)",
   "language": "python",
   "name": "python3"
  },
  "language_info": {
   "codemirror_mode": {
    "name": "ipython",
    "version": 3
   },
   "file_extension": ".py",
   "mimetype": "text/x-python",
   "name": "python",
   "nbconvert_exporter": "python",
   "pygments_lexer": "ipython3",
   "version": "3.11.7"
  }
 },
 "nbformat": 4,
 "nbformat_minor": 5
}
